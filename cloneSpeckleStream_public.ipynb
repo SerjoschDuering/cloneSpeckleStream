{
  "nbformat": 4,
  "nbformat_minor": 0,
  "metadata": {
    "colab": {
      "provenance": [],
      "authorship_tag": "ABX9TyMi4216Xp00jbmHg9oKasWx",
      "include_colab_link": true
    },
    "kernelspec": {
      "name": "python3",
      "display_name": "Python 3"
    },
    "language_info": {
      "name": "python"
    }
  },
  "cells": [
    {
      "cell_type": "markdown",
      "metadata": {
        "id": "view-in-github",
        "colab_type": "text"
      },
      "source": [
        "<a href=\"https://colab.research.google.com/github/SerjoschDuering/cloneSpeckleStream/blob/main/cloneSpeckleStream_public.ipynb\" target=\"_parent\"><img src=\"https://colab.research.google.com/assets/colab-badge.svg\" alt=\"Open In Colab\"/></a>"
      ]
    },
    {
      "cell_type": "markdown",
      "source": [
        "# Speckle Stream Cloning\n",
        "\n",
        "This notebook demonstrates how to clone a Speckle stream from one to another. It uses the Speckle SDK to interact with a Speckle Server and perform operations like fetching branches and commits, and cloning them into a target stream.\n",
        "\n",
        "## Requirements\n",
        "\n",
        "- Speckle SDK: You can install it using pip (`pip install specklepy`)\n",
        "- A Speckle account: You'll need an account to access a Speckle Server. You can create one [here](https://speckle.systems/).\n",
        "- A Speckle Server URL and Personal Access Token: These are required to authenticate with the server.\n",
        "\n",
        "## Usage\n",
        "\n",
        "The main function for cloning a stream is `clone_stream()`, which takes the following arguments:\n",
        "\n",
        "- `source_stream`: The URL of the stream that you want to clone.\n",
        "- `target_stream`: The URL of the stream where you want to clone the source stream.\n",
        "- `server_url`: The URL of your Speckle Server (optional if you're using the default account stored on your machine).\n",
        "- `token`: Your Personal Access Token for the Speckle Server (optional if you're using the default account stored on your machine).\n",
        "- `max_commits`: The maximum number of commits that you want to clone from each branch (default is 1).\n",
        "- `max_branches`: The maximum number of branches the script iterates through (default is 100)\n",
        "\n",
        "Here's how you can use the function:\n",
        "\n",
        "```python\n",
        "SERVER = 'your_server_url'\n",
        "TOKEN = 'your_token'\n",
        "source_stream = 'source_stream_url'\n",
        "target_stream = 'target_stream_url'\n",
        "\n",
        "clone_stream(source_stream, target_stream, max_commits=1, max_branches=100, server_url=SERVER, token=TOKEN)\n"
      ],
      "metadata": {
        "id": "cpx5kkGTM53j"
      }
    },
    {
      "cell_type": "code",
      "source": [
        "!pip install specklepy"
      ],
      "metadata": {
        "id": "_dm1sCvomyqq",
        "colab": {
          "base_uri": "https://localhost:8080/"
        },
        "outputId": "bd909fcd-525f-4b3b-da9d-a7736958508c"
      },
      "execution_count": 2,
      "outputs": [
        {
          "output_type": "stream",
          "name": "stdout",
          "text": [
            "Collecting specklepy\n",
            "  Downloading specklepy-2.15.2-py3-none-any.whl (102 kB)\n",
            "\u001b[2K     \u001b[90m━━━━━━━━━━━━━━━━━━━━━━━━━━━━━━━━━━━━━━━\u001b[0m \u001b[32m102.9/102.9 kB\u001b[0m \u001b[31m1.3 MB/s\u001b[0m eta \u001b[36m0:00:00\u001b[0m\n",
            "\u001b[?25hCollecting Deprecated<2.0.0,>=1.2.13 (from specklepy)\n",
            "  Downloading Deprecated-1.2.14-py2.py3-none-any.whl (9.6 kB)\n",
            "Requirement already satisfied: appdirs<2.0.0,>=1.4.4 in /usr/local/lib/python3.10/dist-packages (from specklepy) (1.4.4)\n",
            "Collecting gql[requests,websockets]<4.0.0,>=3.3.0 (from specklepy)\n",
            "  Downloading gql-3.4.1-py2.py3-none-any.whl (65 kB)\n",
            "\u001b[2K     \u001b[90m━━━━━━━━━━━━━━━━━━━━━━━━━━━━━━━━━━━━━━━━\u001b[0m \u001b[32m65.1/65.1 kB\u001b[0m \u001b[31m4.2 MB/s\u001b[0m eta \u001b[36m0:00:00\u001b[0m\n",
            "\u001b[?25hRequirement already satisfied: pydantic<2.0,>=1.9 in /usr/local/lib/python3.10/dist-packages (from specklepy) (1.10.12)\n",
            "Collecting stringcase<2.0.0,>=1.2.0 (from specklepy)\n",
            "  Downloading stringcase-1.2.0.tar.gz (3.0 kB)\n",
            "  Preparing metadata (setup.py) ... \u001b[?25l\u001b[?25hdone\n",
            "Collecting ujson<6.0.0,>=5.3.0 (from specklepy)\n",
            "  Downloading ujson-5.8.0-cp310-cp310-manylinux_2_17_x86_64.manylinux2014_x86_64.whl (53 kB)\n",
            "\u001b[2K     \u001b[90m━━━━━━━━━━━━━━━━━━━━━━━━━━━━━━━━━━━━━━━━\u001b[0m \u001b[32m53.9/53.9 kB\u001b[0m \u001b[31m2.5 MB/s\u001b[0m eta \u001b[36m0:00:00\u001b[0m\n",
            "\u001b[?25hRequirement already satisfied: wrapt<2,>=1.10 in /usr/local/lib/python3.10/dist-packages (from Deprecated<2.0.0,>=1.2.13->specklepy) (1.14.1)\n",
            "Collecting graphql-core<3.3,>=3.2 (from gql[requests,websockets]<4.0.0,>=3.3.0->specklepy)\n",
            "  Downloading graphql_core-3.2.3-py3-none-any.whl (202 kB)\n",
            "\u001b[2K     \u001b[90m━━━━━━━━━━━━━━━━━━━━━━━━━━━━━━━━━━━━━━━\u001b[0m \u001b[32m202.9/202.9 kB\u001b[0m \u001b[31m6.2 MB/s\u001b[0m eta \u001b[36m0:00:00\u001b[0m\n",
            "\u001b[?25hRequirement already satisfied: yarl<2.0,>=1.6 in /usr/local/lib/python3.10/dist-packages (from gql[requests,websockets]<4.0.0,>=3.3.0->specklepy) (1.9.2)\n",
            "Collecting backoff<3.0,>=1.11.1 (from gql[requests,websockets]<4.0.0,>=3.3.0->specklepy)\n",
            "  Downloading backoff-2.2.1-py3-none-any.whl (15 kB)\n",
            "Collecting websockets<11,>=10 (from gql[requests,websockets]<4.0.0,>=3.3.0->specklepy)\n",
            "  Downloading websockets-10.4-cp310-cp310-manylinux_2_5_x86_64.manylinux1_x86_64.manylinux_2_17_x86_64.manylinux2014_x86_64.whl (106 kB)\n",
            "\u001b[2K     \u001b[90m━━━━━━━━━━━━━━━━━━━━━━━━━━━━━━━━━━━━━━━\u001b[0m \u001b[32m106.8/106.8 kB\u001b[0m \u001b[31m1.2 MB/s\u001b[0m eta \u001b[36m0:00:00\u001b[0m\n",
            "\u001b[?25hRequirement already satisfied: requests<3,>=2.26 in /usr/local/lib/python3.10/dist-packages (from gql[requests,websockets]<4.0.0,>=3.3.0->specklepy) (2.27.1)\n",
            "Collecting requests-toolbelt<1,>=0.9.1 (from gql[requests,websockets]<4.0.0,>=3.3.0->specklepy)\n",
            "  Downloading requests_toolbelt-0.10.1-py2.py3-none-any.whl (54 kB)\n",
            "\u001b[2K     \u001b[90m━━━━━━━━━━━━━━━━━━━━━━━━━━━━━━━━━━━━━━━━\u001b[0m \u001b[32m54.5/54.5 kB\u001b[0m \u001b[31m4.3 MB/s\u001b[0m eta \u001b[36m0:00:00\u001b[0m\n",
            "\u001b[?25hRequirement already satisfied: urllib3<2,>=1.26 in /usr/local/lib/python3.10/dist-packages (from gql[requests,websockets]<4.0.0,>=3.3.0->specklepy) (1.26.16)\n",
            "Requirement already satisfied: typing-extensions>=4.2.0 in /usr/local/lib/python3.10/dist-packages (from pydantic<2.0,>=1.9->specklepy) (4.7.1)\n",
            "Requirement already satisfied: certifi>=2017.4.17 in /usr/local/lib/python3.10/dist-packages (from requests<3,>=2.26->gql[requests,websockets]<4.0.0,>=3.3.0->specklepy) (2023.7.22)\n",
            "Requirement already satisfied: charset-normalizer~=2.0.0 in /usr/local/lib/python3.10/dist-packages (from requests<3,>=2.26->gql[requests,websockets]<4.0.0,>=3.3.0->specklepy) (2.0.12)\n",
            "Requirement already satisfied: idna<4,>=2.5 in /usr/local/lib/python3.10/dist-packages (from requests<3,>=2.26->gql[requests,websockets]<4.0.0,>=3.3.0->specklepy) (3.4)\n",
            "Requirement already satisfied: multidict>=4.0 in /usr/local/lib/python3.10/dist-packages (from yarl<2.0,>=1.6->gql[requests,websockets]<4.0.0,>=3.3.0->specklepy) (6.0.4)\n",
            "Building wheels for collected packages: stringcase\n",
            "  Building wheel for stringcase (setup.py) ... \u001b[?25l\u001b[?25hdone\n",
            "  Created wheel for stringcase: filename=stringcase-1.2.0-py3-none-any.whl size=3568 sha256=e198f209378f00aff48bba1993178716cb3eab5b80b15b8a70e4fabe4ffe34fe\n",
            "  Stored in directory: /root/.cache/pip/wheels/31/ba/22/1a2d952a9ce8aa86e42fda41e2c87fdaf20e238c88bf8df013\n",
            "Successfully built stringcase\n",
            "Installing collected packages: stringcase, websockets, ujson, graphql-core, Deprecated, backoff, requests-toolbelt, gql, specklepy\n",
            "Successfully installed Deprecated-1.2.14 backoff-2.2.1 gql-3.4.1 graphql-core-3.2.3 requests-toolbelt-0.10.1 specklepy-2.15.2 stringcase-1.2.0 ujson-5.8.0 websockets-10.4\n"
          ]
        }
      ]
    },
    {
      "cell_type": "code",
      "execution_count": 3,
      "metadata": {
        "id": "hdtQlwDSmw97"
      },
      "outputs": [],
      "source": [
        "from specklepy.api.client import SpeckleClient\n",
        "from specklepy.api.credentials import get_default_account\n",
        "from specklepy.transports.server import ServerTransport\n",
        "from specklepy.api import operations"
      ]
    },
    {
      "cell_type": "code",
      "source": [
        "def clone_stream(source_stream, target_stream, server_url=None, token=None, max_commits=1, max_branches=100):\n",
        "\n",
        "    if server_url and token:\n",
        "        client = SpeckleClient(host=server_url)\n",
        "        client.authenticate_with_token(token=token)\n",
        "    else:\n",
        "        # Try to get default account\n",
        "        account = get_default_account()\n",
        "        client = SpeckleClient(host=account.serverUrl)\n",
        "        client.authenticate(token=account.token)\n",
        "\n",
        "    source_stream_id = source_stream.split('/')[-1]\n",
        "    target_stream_id = target_stream.split('/')[-1]\n",
        "\n",
        "    branches = client.branch.list(source_stream_id, max_branches)\n",
        "\n",
        "\n",
        "    print(\"branches found on stream:\")\n",
        "    [print(n.name) for n in branches]\n",
        "\n",
        "    # Fetch source stream transport\n",
        "    source_transport = ServerTransport(client=client, stream_id=source_stream_id)\n",
        "\n",
        "    # Fetch target stream transport\n",
        "    target_transport = ServerTransport(client=client, stream_id=target_stream_id)\n",
        "\n",
        "    report = {}\n",
        "\n",
        "    # Iterate through each branch\n",
        "    for branch in branches:\n",
        "        branch_name = branch.name\n",
        "        report[branch_name] = {}\n",
        "\n",
        "        # Create branch in target stream\n",
        "        client.branch.create(target_stream_id, branch_name, branch.description)\n",
        "\n",
        "        # Fetch all commits in current branch\n",
        "        try:\n",
        "            commits = client.branch.get(source_stream_id, branch_name).commits.items\n",
        "        except Exception as e:\n",
        "            report[branch_name]['error'] = f'Failure to fetch commits: {str(e)}'\n",
        "            continue\n",
        "\n",
        "        # If branch has fewer commits than max_commits, clone only the available ones\n",
        "        num_commits = min(len(commits), max_commits)\n",
        "\n",
        "        # Iterate through each commit in the branch\n",
        "        for i in range(num_commits):\n",
        "            commit = commits[i]\n",
        "            print(\"processing commit: \",commit )\n",
        "            # Fetch commit objects from source stream\n",
        "            commit = client.commit.get(source_stream_id, commit.id)\n",
        "            objects = operations.receive(commit.referencedObject, source_transport)\n",
        "\n",
        "            # Send commit objects to target stream\n",
        "            try:\n",
        "                new_id = operations.send(objects, [target_transport])\n",
        "                client.commit.create(\n",
        "                    stream_id=target_stream_id,\n",
        "                    branch_name=branch_name,\n",
        "                    object_id=new_id,\n",
        "                    message=commit.message,\n",
        "                )\n",
        "                report[branch_name][commit.id] = 'Success'\n",
        "            except Exception as e:\n",
        "                report[branch_name][commit.id] = f'Failure: {str(e)}'\n",
        "\n",
        "    # Print report\n",
        "    for branch_name, commits in report.items():\n",
        "        print(f'Branch: {branch_name}')\n",
        "        for commit_id, status in commits.items():\n",
        "            print(f'\\tCommit: {commit_id}, Status: {status}')\n"
      ],
      "metadata": {
        "id": "w84CXPxSm8hp"
      },
      "execution_count": 5,
      "outputs": []
    },
    {
      "cell_type": "code",
      "source": [
        "source_stream = \"soruce stream url here\"\n",
        "target_stream = \"target stream url here\"\n",
        "\n",
        "TOKEN = None  # if None, script tries to use get_default_account()\n",
        "SERVER = None # if None, script tries to use get_default_account()"
      ],
      "metadata": {
        "id": "s5TJM38XoCfl"
      },
      "execution_count": 6,
      "outputs": []
    },
    {
      "cell_type": "code",
      "source": [
        "clone_stream(source_stream, target_stream, max_commits=1, max_branches=100, server_url=SERVER, token=TOKEN)\n"
      ],
      "metadata": {
        "id": "f67UG9BYnTJw"
      },
      "execution_count": null,
      "outputs": []
    }
  ]
}